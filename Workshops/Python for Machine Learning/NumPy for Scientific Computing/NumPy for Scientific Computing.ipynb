{
 "cells": [
  {
   "cell_type": "markdown",
   "id": "339c960b",
   "metadata": {},
   "source": [
    "# NumPy for Scientific Computing\n",
    "\n",
    "\n",
    "Hello again GDSC members and welcome to our third session in the \"Python for Machine Learning\" workshops series. 🥳🥳"
   ]
  },
  {
   "cell_type": "code",
   "execution_count": 1,
   "id": "848a4745",
   "metadata": {},
   "outputs": [],
   "source": [
    "import numpy as np"
   ]
  },
  {
   "cell_type": "code",
   "execution_count": 2,
   "id": "ac5fdc45",
   "metadata": {},
   "outputs": [],
   "source": [
    "def show_info(ndarray):\n",
    "    print(f'a {ndarray.ndim}-D array of shape {ndarray.shape}')"
   ]
  },
  {
   "cell_type": "markdown",
   "id": "b741e467",
   "metadata": {},
   "source": [
    "## Create an ndarray"
   ]
  },
  {
   "cell_type": "code",
   "execution_count": 3,
   "id": "8d0dd9d0",
   "metadata": {},
   "outputs": [
    {
     "name": "stdout",
     "output_type": "stream",
     "text": [
      "[1 2 3 4]\n",
      "\n",
      "a 1-D array of shape (4,)\n"
     ]
    }
   ],
   "source": [
    "# 1-D array\n",
    "A = np.array([1, 2, 3, 4])\n",
    "\n",
    "print(A)\n",
    "print()\n",
    "show_info(A)"
   ]
  },
  {
   "cell_type": "code",
   "execution_count": 21,
   "id": "049f256d",
   "metadata": {},
   "outputs": [
    {
     "name": "stdout",
     "output_type": "stream",
     "text": [
      "[[1 2]\n",
      " [3 4]\n",
      " [5 6]]\n",
      "\n",
      "a 2-D array of shape (3, 2)\n"
     ]
    }
   ],
   "source": [
    "# 2-D array\n",
    "B = np.array([[1, 2],\n",
    "             [3, 4],\n",
    "             [5, 6]])\n",
    "\n",
    "print(B)\n",
    "print()\n",
    "show_info(B)"
   ]
  },
  {
   "cell_type": "code",
   "execution_count": 22,
   "id": "823f555c",
   "metadata": {},
   "outputs": [
    {
     "name": "stdout",
     "output_type": "stream",
     "text": [
      "[[[ 1  2  3]\n",
      "  [ 4  5  6]]\n",
      "\n",
      " [[ 7  8  9]\n",
      "  [10 11 12]]]\n",
      "\n",
      "a 3-D array of shape (2, 2, 3)\n"
     ]
    }
   ],
   "source": [
    "# 3-D array\n",
    "C = np.array([[[1, 2, 3], [4, 5, 6]],\n",
    "             [[7, 8, 9], [10, 11, 12]]])\n",
    "\n",
    "print(C)\n",
    "print()\n",
    "show_info(C)"
   ]
  },
  {
   "cell_type": "markdown",
   "id": "ef51ad85",
   "metadata": {},
   "source": [
    "## Other ndarray Constructors"
   ]
  },
  {
   "cell_type": "code",
   "execution_count": 31,
   "id": "fec67723",
   "metadata": {},
   "outputs": [
    {
     "name": "stdout",
     "output_type": "stream",
     "text": [
      "[[0. 0.]\n",
      " [0. 0.]\n",
      " [0. 0.]]\n",
      "a 2-D array of shape (3, 2)\n"
     ]
    }
   ],
   "source": [
    "zeros = np.zeros(shape=(3, 2))\n",
    "\n",
    "print(zeros)\n",
    "print()\n",
    "show_info(zeros)"
   ]
  },
  {
   "cell_type": "code",
   "execution_count": 32,
   "id": "81f786de",
   "metadata": {},
   "outputs": [
    {
     "name": "stdout",
     "output_type": "stream",
     "text": [
      "[[1. 1. 1.]\n",
      " [1. 1. 1.]]\n",
      "a 2-D array of shape (2, 3)\n"
     ]
    }
   ],
   "source": [
    "ones = np.ones(shape=(2, 3))\n",
    "\n",
    "print(ones)\n",
    "print()\n",
    "show_info(ones)"
   ]
  },
  {
   "cell_type": "code",
   "execution_count": 33,
   "id": "edfb8f3e",
   "metadata": {},
   "outputs": [
    {
     "name": "stdout",
     "output_type": "stream",
     "text": [
      "[[1. 0. 0. 0.]\n",
      " [0. 1. 0. 0.]\n",
      " [0. 0. 1. 0.]\n",
      " [0. 0. 0. 1.]]\n",
      "a 2-D array of shape (4, 4)\n"
     ]
    }
   ],
   "source": [
    "eye = np.eye(4)\n",
    "\n",
    "print(eye)\n",
    "print()\n",
    "show_info(eye)"
   ]
  },
  {
   "cell_type": "code",
   "execution_count": 27,
   "id": "11a9974a",
   "metadata": {},
   "outputs": [
    {
     "name": "stdout",
     "output_type": "stream",
     "text": [
      "[[-1.78158225 -1.42816247 -0.0532788 ]\n",
      " [ 0.61217805 -0.72653542 -0.50191042]\n",
      " [ 0.41304839  2.19472331 -1.75379614]]\n",
      "a 2-D array of shape (3, 3)\n"
     ]
    }
   ],
   "source": [
    "normal_dist = np.random.randn(3, 3)\n",
    "\n",
    "print(normal_dist)\n",
    "print()\n",
    "show_info(normal_dist)"
   ]
  },
  {
   "cell_type": "markdown",
   "id": "92133aa4",
   "metadata": {},
   "source": [
    "## 1D array Constructors"
   ]
  },
  {
   "cell_type": "code",
   "execution_count": 34,
   "id": "b74303b4",
   "metadata": {},
   "outputs": [
    {
     "name": "stdout",
     "output_type": "stream",
     "text": [
      "[-10.          -9.59183673  -9.18367347  -8.7755102   -8.36734694\n",
      "  -7.95918367  -7.55102041  -7.14285714  -6.73469388  -6.32653061\n",
      "  -5.91836735  -5.51020408  -5.10204082  -4.69387755  -4.28571429\n",
      "  -3.87755102  -3.46938776  -3.06122449  -2.65306122  -2.24489796\n",
      "  -1.83673469  -1.42857143  -1.02040816  -0.6122449   -0.20408163\n",
      "   0.20408163   0.6122449    1.02040816   1.42857143   1.83673469\n",
      "   2.24489796   2.65306122   3.06122449   3.46938776   3.87755102\n",
      "   4.28571429   4.69387755   5.10204082   5.51020408   5.91836735\n",
      "   6.32653061   6.73469388   7.14285714   7.55102041   7.95918367\n",
      "   8.36734694   8.7755102    9.18367347   9.59183673  10.        ]\n",
      "\n",
      "a 1-D array of shape (50,)\n"
     ]
    }
   ],
   "source": [
    "array_1 = np.linspace(-10, 10, 50)\n",
    "\n",
    "print(array_1)\n",
    "print()\n",
    "show_info(array_1)"
   ]
  },
  {
   "cell_type": "code",
   "execution_count": 35,
   "id": "fd1a6977",
   "metadata": {},
   "outputs": [
    {
     "name": "stdout",
     "output_type": "stream",
     "text": [
      "[-10  -9  -8  -7  -6  -5  -4  -3  -2  -1   0   1   2   3   4   5   6   7\n",
      "   8   9]\n",
      "\n",
      "a 1-D array of shape (20,)\n"
     ]
    }
   ],
   "source": [
    "array_2 = np.arange(-10, 10, 1)\n",
    "\n",
    "print(array_2)\n",
    "print()\n",
    "show_info(array_2)"
   ]
  },
  {
   "cell_type": "markdown",
   "id": "1468f637",
   "metadata": {},
   "source": [
    "## dtypes"
   ]
  },
  {
   "cell_type": "code",
   "execution_count": 38,
   "id": "87ab2282",
   "metadata": {},
   "outputs": [
    {
     "name": "stdout",
     "output_type": "stream",
     "text": [
      "Float array\n",
      "[1. 2. 3. 4.]\n",
      "Array of type float32\n",
      "\n",
      "Int array\n",
      "[1 2 3 4]\n",
      "Array of type int32\n",
      "\n",
      "Boolean array\n",
      "[ True False False False]\n",
      "Array of type bool\n"
     ]
    }
   ],
   "source": [
    "float_array = np.array([1, 2, 3, 4], dtype=np.float32)\n",
    "int_array = np.array([1, 2, 3, 4], dtype=np.int32)\n",
    "boolean_array = np.array([True, False, False, False])\n",
    "\n",
    "print('Float array')\n",
    "print(float_array)\n",
    "print(f'Array of type {float_array.dtype}')\n",
    "print()\n",
    "print('Int array')\n",
    "print(int_array)\n",
    "print(f'Array of type {int_array.dtype}')\n",
    "print()\n",
    "print('Boolean array')\n",
    "print(boolean_array)\n",
    "print(f'Array of type {boolean_array.dtype}')"
   ]
  },
  {
   "cell_type": "markdown",
   "id": "a1c9991f",
   "metadata": {},
   "source": [
    "## hstack and vstack\n"
   ]
  },
  {
   "cell_type": "code",
   "execution_count": 40,
   "id": "54466e24",
   "metadata": {},
   "outputs": [
    {
     "name": "stdout",
     "output_type": "stream",
     "text": [
      "Matrix A\n",
      "[[ 1  2  3  4]\n",
      " [ 5  6  7  8]\n",
      " [ 9 10 11 12]]\n",
      "\n",
      "Matrix B\n",
      "[[1 2 3 4]\n",
      " [5 6 7 8]]\n",
      "\n",
      "Matrix C\n",
      "[[1 2]\n",
      " [3 4]\n",
      " [5 6]]\n",
      "\n",
      "Horizontal Stack (A and C)\n",
      "[[ 1  2  3  4  1  2]\n",
      " [ 5  6  7  8  3  4]\n",
      " [ 9 10 11 12  5  6]]\n",
      "a 2-D array of shape (3, 6)\n",
      "\n",
      "Vertical Stack (A and B)\n",
      "[[ 1  2  3  4]\n",
      " [ 5  6  7  8]\n",
      " [ 9 10 11 12]\n",
      " [ 1  2  3  4]\n",
      " [ 5  6  7  8]]\n",
      "a 2-D array of shape (5, 4)\n"
     ]
    }
   ],
   "source": [
    "A = np.array([[1, 2, 3, 4],\n",
    "             [5, 6, 7, 8],\n",
    "             [9, 10, 11, 12]])\n",
    "\n",
    "B = np.array([[1, 2, 3, 4],\n",
    "             [5, 6, 7, 8]])\n",
    "\n",
    "C = np.array([[1, 2],\n",
    "             [3, 4],\n",
    "             [5, 6]])\n",
    "\n",
    "hstack_array = np.hstack((A, C))\n",
    "vstack_array = np.vstack((A, B))\n",
    "\n",
    "print('Matrix A')\n",
    "print(A)\n",
    "print()\n",
    "print('Matrix B')\n",
    "print(B)\n",
    "print()\n",
    "print('Matrix C')\n",
    "print(C)\n",
    "print()\n",
    "\n",
    "print('Horizontal Stack (A and C)')\n",
    "print(hstack_array)\n",
    "show_info(hstack_array)\n",
    "print()\n",
    "print('Vertical Stack (A and B)')\n",
    "print(vstack_array)\n",
    "show_info(vstack_array)"
   ]
  },
  {
   "cell_type": "markdown",
   "id": "7007d7c1",
   "metadata": {},
   "source": [
    "## ndarray.reshape"
   ]
  },
  {
   "cell_type": "code",
   "execution_count": 41,
   "id": "05b08ce9",
   "metadata": {},
   "outputs": [
    {
     "name": "stdout",
     "output_type": "stream",
     "text": [
      "Array 1\n",
      "[[ 1  2  3  4  5  6]\n",
      " [ 7  8  9 10 11 12]]\n",
      "a 2-D array of shape (2, 6)\n",
      "\n",
      "Array 2 (array_1.reshape((3, 4)))\n",
      "[[ 1  2  3  4]\n",
      " [ 5  6  7  8]\n",
      " [ 9 10 11 12]]\n",
      "a 2-D array of shape (3, 4)\n"
     ]
    }
   ],
   "source": [
    "array_1 = np.array([[1, 2, 3, 4, 5, 6],\n",
    "                   [7, 8, 9, 10, 11, 12]])\n",
    "\n",
    "\n",
    "array_2 = array_1.reshape((3, 4))\n",
    "\n",
    "print('Array 1')\n",
    "print(array_1)\n",
    "show_info(array_1)\n",
    "print()\n",
    "print('Array 2 (array_1.reshape((3, 4)))')\n",
    "print(array_2)\n",
    "show_info(array_2)"
   ]
  },
  {
   "cell_type": "markdown",
   "id": "d8fae47a",
   "metadata": {},
   "source": [
    "## ndarray.ravel"
   ]
  },
  {
   "cell_type": "code",
   "execution_count": 42,
   "id": "d0435ad5",
   "metadata": {},
   "outputs": [
    {
     "name": "stdout",
     "output_type": "stream",
     "text": [
      "Array 1\n",
      "[[1 2 3]\n",
      " [4 5 6]]\n",
      "a 2-D array of shape (2, 3)\n",
      "\n",
      "Array 2 (array_1.ravel())\n",
      "[1 2 3 4 5 6]\n",
      "a 1-D array of shape (6,)\n"
     ]
    }
   ],
   "source": [
    "array_1 = np.array([[1, 2, 3],\n",
    "                   [4, 5, 6]])\n",
    "\n",
    "array_2 = array_1.ravel()\n",
    "\n",
    "print('Array 1')\n",
    "print(array_1)\n",
    "show_info(array_1)\n",
    "print()\n",
    "print('Array 2 (array_1.ravel())')\n",
    "print(array_2)\n",
    "show_info(array_2)"
   ]
  },
  {
   "cell_type": "markdown",
   "id": "b15bc96a",
   "metadata": {},
   "source": [
    "## Indexing"
   ]
  },
  {
   "cell_type": "code",
   "execution_count": 46,
   "id": "187826a0",
   "metadata": {},
   "outputs": [
    {
     "name": "stdout",
     "output_type": "stream",
     "text": [
      "[[1 2 3]\n",
      " [4 5 6]]\n",
      "a 2-D array of shape (2, 3)\n",
      "\n",
      "Value in the first row, first column: 1\n",
      "Value in the first row, second column: 2\n"
     ]
    }
   ],
   "source": [
    "A = np.array([[1, 2, 3],\n",
    "             [4, 5, 6]])\n",
    "\n",
    "print(A)\n",
    "show_info(A)\n",
    "print()\n",
    "print(f'Value in the first row, first column: {A[0, 0]}')\n",
    "print(f'Value in the first row, second column: {A[0, 1]}')"
   ]
  },
  {
   "cell_type": "markdown",
   "id": "c45ac81a",
   "metadata": {},
   "source": [
    "## Slicing"
   ]
  },
  {
   "cell_type": "code",
   "execution_count": 48,
   "id": "7e4c828d",
   "metadata": {},
   "outputs": [
    {
     "name": "stdout",
     "output_type": "stream",
     "text": [
      "[[ 1  2  3  4]\n",
      " [ 5  6  7  8]\n",
      " [ 9 10 11 12]\n",
      " [13 14 15 16]]\n",
      "a 2-D array of shape (4, 4)\n",
      "\n",
      "Row one, columns two to four\n",
      "[7 8]\n",
      "\n",
      "All rows in column one\n",
      "[ 2  6 10 14]\n",
      "\n",
      "All rows after row two, all columns after column two\n",
      "[[11 12]\n",
      " [15 16]]\n",
      "\n",
      "Every other row after row one, every other column\n",
      "[[ 5  7]\n",
      " [13 15]]\n",
      "\n"
     ]
    }
   ],
   "source": [
    "A = np.array([i for i in range(1, 17)]).reshape((4, 4))\n",
    "\n",
    "print(A)\n",
    "show_info(A)\n",
    "print()\n",
    "\n",
    "print('Row one, columns two to four')\n",
    "print(A[1, 2:4])\n",
    "print()\n",
    "print('All rows in column one')\n",
    "print(A[:, 1])\n",
    "print()\n",
    "\n",
    "print('All rows after row two, all columns after column two')\n",
    "print(A[2:, 2:])\n",
    "print()\n",
    "\n",
    "print('Every other row after row one, every other column')\n",
    "print(A[1::2, ::2])\n",
    "print()"
   ]
  },
  {
   "cell_type": "markdown",
   "id": "cd787fdc",
   "metadata": {},
   "source": [
    "## Boolean Indexing"
   ]
  },
  {
   "cell_type": "code",
   "execution_count": 50,
   "id": "24d95d3a",
   "metadata": {},
   "outputs": [
    {
     "name": "stdout",
     "output_type": "stream",
     "text": [
      "Matrix A\n",
      "[[5 4 5]\n",
      " [4 4 4]\n",
      " [5 4 5]]\n",
      "a 2-D array of shape (3, 3)\n",
      "\n",
      "Boolean mask\n",
      "[[False  True False]\n",
      " [ True  True  True]\n",
      " [False  True False]]\n",
      "a 2-D array of shape (3, 3)\n",
      "\n",
      "A[A < 5] = 10\n",
      "\n",
      "Matrix A\n",
      "[[ 5 10  5]\n",
      " [10 10 10]\n",
      " [ 5 10  5]]\n",
      "a 2-D array of shape (3, 3)\n"
     ]
    }
   ],
   "source": [
    "A = np.array([[5, 4, 5],\n",
    "             [4, 4, 4],\n",
    "             [5, 4, 5]])\n",
    "\n",
    "mask = A < 5\n",
    "\n",
    "print('Matrix A')\n",
    "print(A)\n",
    "show_info(A)\n",
    "print()\n",
    "\n",
    "print('Boolean mask')\n",
    "print(mask)\n",
    "show_info(mask)\n",
    "print()\n",
    "\n",
    "A[mask] = 10\n",
    "\n",
    "print('A[A < 5] = 10\\n')\n",
    "\n",
    "print('Matrix A')\n",
    "print(A)\n",
    "show_info(A)"
   ]
  },
  {
   "cell_type": "markdown",
   "id": "0ce18282",
   "metadata": {},
   "source": [
    "## sum, min, argmin, max, argmax, sort, argsort"
   ]
  },
  {
   "cell_type": "code",
   "execution_count": 55,
   "id": "53013f79",
   "metadata": {},
   "outputs": [
    {
     "name": "stdout",
     "output_type": "stream",
     "text": [
      "Matrix A\n",
      "[[5 0 3]\n",
      " [3 7 9]]\n",
      "\n",
      "Sum on axis 0\n",
      "[ 8  7 12]\n",
      "Sum on axis 1\n",
      "[ 8 19]\n",
      "\n",
      "Minimum on axis 0\n",
      "[3 0 3]\n",
      "Minimum on axis 1\n",
      "[0 3]\n",
      "\n",
      "Argmin on axis 0\n",
      "[1 0 0]\n",
      "Argmin on axis 1\n",
      "[1 0]\n",
      "\n",
      "Maximum on axis 0\n",
      "[5 7 9]\n",
      "Maximum on axis 1\n",
      "[5 9]\n",
      "\n",
      "Argmax on axis 0\n",
      "[0 1 1]\n",
      "Argmax on axis 1\n",
      "[0 2]\n",
      "\n",
      "Sorted on axis 0\n",
      "[[3 0 3]\n",
      " [5 7 9]]\n",
      "Sorted on axis 1\n",
      "[[0 3 5]\n",
      " [3 7 9]]\n",
      "\n",
      "Argsort on axis 0\n",
      "[[1 0 0]\n",
      " [0 1 1]]\n",
      "Argsort on axis 1\n",
      "[[1 2 0]\n",
      " [0 1 2]]\n",
      "\n"
     ]
    }
   ],
   "source": [
    "A = np.array([[5, 0, 3],\n",
    "             [3, 7, 9]])\n",
    "\n",
    "# sum\n",
    "sum_axis_0 = A.sum(axis=0)\n",
    "sum_axis_1 = A.sum(axis=1)\n",
    "\n",
    "# min\n",
    "min_axis_0 = A.min(axis=0)\n",
    "min_axis_1 = A.min(axis=1)\n",
    "\n",
    "# argmin\n",
    "argmin_axis_0 = A.argmin(axis=0)\n",
    "argmin_axis_1 = A.argmin(axis=1)\n",
    "\n",
    "# max\n",
    "max_axis_0 = A.max(axis=0)\n",
    "max_axis_1 = A.max(axis=1)\n",
    "\n",
    "# argmax\n",
    "argmax_axis_0 = A.argmax(axis=0)\n",
    "argmax_axis_1 = A.argmax(axis=1)\n",
    "\n",
    "# sort\n",
    "sort_axis_0 = np.sort(A, axis=0)\n",
    "sort_axis_1 = np.sort(A, axis=1)\n",
    "\n",
    "# argsort\n",
    "argsort_axis_0 = A.argsort(axis=0)\n",
    "argsort_axis_1 = A.argsort(axis=1)\n",
    "\n",
    "\n",
    "print('Matrix A')\n",
    "print(A)\n",
    "print()\n",
    "\n",
    "print('Sum on axis 0')\n",
    "print(sum_axis_0)\n",
    "print('Sum on axis 1')\n",
    "print(sum_axis_1)\n",
    "print()\n",
    "\n",
    "\n",
    "print('Minimum on axis 0')\n",
    "print(min_axis_0)\n",
    "print('Minimum on axis 1')\n",
    "print(min_axis_1)\n",
    "print()\n",
    "\n",
    "print('Argmin on axis 0')\n",
    "print(argmin_axis_0)\n",
    "print('Argmin on axis 1')\n",
    "print(argmin_axis_1)\n",
    "print()\n",
    "\n",
    "print('Maximum on axis 0')\n",
    "print(max_axis_0)\n",
    "print('Maximum on axis 1')\n",
    "print(max_axis_1)\n",
    "print()\n",
    "\n",
    "print('Argmax on axis 0')\n",
    "print(argmax_axis_0)\n",
    "print('Argmax on axis 1')\n",
    "print(argmax_axis_1)\n",
    "print()\n",
    "\n",
    "print('Sorted on axis 0')\n",
    "print(sort_axis_0)\n",
    "print('Sorted on axis 1')\n",
    "print(sort_axis_1)\n",
    "print()\n",
    "\n",
    "print('Argsort on axis 0')\n",
    "print(argsort_axis_0)\n",
    "print('Argsort on axis 1')\n",
    "print(argsort_axis_1)\n",
    "print()"
   ]
  },
  {
   "cell_type": "markdown",
   "id": "f99aa0c1",
   "metadata": {},
   "source": [
    "## Mathematical Functions"
   ]
  },
  {
   "cell_type": "code",
   "execution_count": 56,
   "id": "d33dc185",
   "metadata": {},
   "outputs": [
    {
     "name": "stdout",
     "output_type": "stream",
     "text": [
      "A\n",
      "[[1 2 3]\n",
      " [4 5 6]]\n",
      "a 2-D array of shape (2, 3)\n",
      "\n",
      "Exponential\n",
      "[[  2.71828183   7.3890561   20.08553692]\n",
      " [ 54.59815003 148.4131591  403.42879349]]\n",
      "\n",
      "Logarithm\n",
      "[[0.         0.69314718 1.09861229]\n",
      " [1.38629436 1.60943791 1.79175947]]\n",
      "\n",
      "Cosine\n",
      "[[ 0.54030231 -0.41614684 -0.9899925 ]\n",
      " [-0.65364362  0.28366219  0.96017029]]\n",
      "\n",
      "Sine\n",
      "[[ 0.84147098  0.90929743  0.14112001]\n",
      " [-0.7568025  -0.95892427 -0.2794155 ]]\n"
     ]
    }
   ],
   "source": [
    "A = np.array([[1, 2, 3],\n",
    "             [4, 5, 6]])\n",
    "\n",
    "exp_A = np.exp(A)\n",
    "log_A = np.log(A)\n",
    "cos_A = np.cos(A)\n",
    "sin_A = np.sin(A)\n",
    "\n",
    "print('A')\n",
    "print(A)\n",
    "show_info(A)\n",
    "print()\n",
    "print('Exponential')\n",
    "print(exp_A)\n",
    "print()\n",
    "\n",
    "print('Logarithm')\n",
    "print(log_A)\n",
    "print()\n",
    "\n",
    "print('Cosine')\n",
    "print(cos_A)\n",
    "print()\n",
    "\n",
    "print('Sine')\n",
    "print(sin_A)\n"
   ]
  },
  {
   "cell_type": "markdown",
   "id": "d24306b5",
   "metadata": {},
   "source": [
    "## Statistics"
   ]
  },
  {
   "cell_type": "code",
   "execution_count": 59,
   "id": "41b42fca",
   "metadata": {},
   "outputs": [
    {
     "name": "stdout",
     "output_type": "stream",
     "text": [
      "[[5 0 3]\n",
      " [3 7 9]]\n",
      "a 2-D array of shape (2, 3)\n",
      "\n",
      "Mean of A: 4.5\n",
      "Standard deviation of A: 2.930\n",
      "Variance of A: 8.583\n"
     ]
    }
   ],
   "source": [
    "A = np.array([[5, 0, 3],\n",
    "             [3, 7, 9]])\n",
    "\n",
    "mean_A = A.mean()\n",
    "std_A = A.std()\n",
    "var_A = A.var()\n",
    "\n",
    "print(A)\n",
    "show_info(A)\n",
    "print()\n",
    "\n",
    "print(f'Mean of A: {mean_A}')\n",
    "print(f'Standard deviation of A: {std_A:.3f}')\n",
    "print(f'Variance of A: {var_A:.3f}')"
   ]
  },
  {
   "attachments": {
    "image.png": {
     "image/png": "[encoded data removed]"
    }
   },
   "cell_type": "markdown",
   "id": "a3cd67fa",
   "metadata": {},
   "source": [
    "## Correlation\n",
    "\n",
    "![image.png](attachment:image.png)"
   ]
  },
  {
   "cell_type": "code",
   "execution_count": 60,
   "id": "c7775582",
   "metadata": {},
   "outputs": [
    {
     "name": "stdout",
     "output_type": "stream",
     "text": [
      "Correlation Matrix\n",
      "[[ 1.         -0.56362148]\n",
      " [-0.56362148  1.        ]]\n"
     ]
    }
   ],
   "source": [
    "correlation = np.corrcoef(A)\n",
    "print('Correlation Matrix')\n",
    "print(correlation)"
   ]
  },
  {
   "cell_type": "markdown",
   "id": "5aec4fc5",
   "metadata": {},
   "source": [
    "## Unique value and number of repetitions"
   ]
  },
  {
   "cell_type": "code",
   "execution_count": 61,
   "id": "da497847",
   "metadata": {},
   "outputs": [
    {
     "data": {
      "text/plain": [
       "(array([0, 3, 5, 7, 9]), array([1, 2, 1, 1, 1], dtype=int64))"
      ]
     },
     "execution_count": 61,
     "metadata": {},
     "output_type": "execute_result"
    }
   ],
   "source": [
    "A = np.array([[5, 0, 3],\n",
    "             [3, 7, 9]])\n",
    "\n",
    "np.unique(A, return_counts=True)"
   ]
  },
  {
   "cell_type": "markdown",
   "id": "a777bb8b",
   "metadata": {},
   "source": [
    "## Sort values with counts"
   ]
  },
  {
   "cell_type": "code",
   "execution_count": 73,
   "id": "836c0f6b",
   "metadata": {},
   "outputs": [
    {
     "name": "stdout",
     "output_type": "stream",
     "text": [
      "Matrix A\n",
      "[[1 2 3 2 2 2 1]\n",
      " [2 1 5 5 1 2 3]\n",
      " [8 8 1 2 4 2 9]]\n",
      "\n",
      "Unique values' counts: {1: 5, 2: 8, 3: 2, 4: 1, 5: 2, 8: 2, 9: 1}\n",
      "Values sorted from less frequent to more frequent: [4 9 3 5 8 1 2]\n"
     ]
    }
   ],
   "source": [
    "A = np.array([[1, 2, 3, 2, 2, 2, 1],\n",
    "             [2, 1, 5, 5, 1, 2, 3],\n",
    "             [8, 8, 1, 2, 4, 2, 9]])\n",
    "\n",
    "values, counts = np.unique(A, return_counts=True)\n",
    "value_counts = {value: count for value, count in zip(values, counts)}\n",
    "\n",
    "sorted_values = values[counts.argsort()]\n",
    "\n",
    "print('Matrix A')\n",
    "print(A)\n",
    "print()\n",
    "\n",
    "print(f'Unique values\\' counts: {value_counts}')\n",
    "print(f'Values sorted from less frequent to more frequent: {sorted_values}')"
   ]
  },
  {
   "cell_type": "markdown",
   "id": "7fca7da9",
   "metadata": {},
   "source": [
    "## nan (not a number)"
   ]
  },
  {
   "cell_type": "code",
   "execution_count": 74,
   "id": "c2108c17",
   "metadata": {},
   "outputs": [
    {
     "data": {
      "text/plain": [
       "array([[ 1.76405235,  0.40015721,         nan,  2.2408932 ,  1.86755799],\n",
       "       [-0.97727788,  0.95008842, -0.15135721, -0.10321885,  0.4105985 ],\n",
       "       [ 0.14404357,  1.45427351,  0.76103773,  0.12167502,  0.44386323],\n",
       "       [ 0.33367433,  1.49407907, -0.20515826,  0.3130677 , -0.85409574],\n",
       "       [-2.55298982,  0.6536186 ,  0.8644362 ,         nan,  2.26975462]])"
      ]
     },
     "execution_count": 74,
     "metadata": {},
     "output_type": "execute_result"
    }
   ],
   "source": [
    "A = np.random.randn(5, 5)\n",
    "A[0, 2] = np.nan\n",
    "A[4, 3] = np.nan\n",
    "A"
   ]
  },
  {
   "cell_type": "code",
   "execution_count": 78,
   "id": "1ef4dffa",
   "metadata": {},
   "outputs": [
    {
     "data": {
      "text/plain": [
       "(nan, nan)"
      ]
     },
     "execution_count": 78,
     "metadata": {},
     "output_type": "execute_result"
    }
   ],
   "source": [
    "A.mean()"
   ]
  },
  {
   "cell_type": "markdown",
   "id": "1630e734",
   "metadata": {},
   "source": [
    "Statistical methods return nan if there are missing values in the array, however there are methods that ignore the missing values."
   ]
  },
  {
   "cell_type": "code",
   "execution_count": 77,
   "id": "1c15a347",
   "metadata": {},
   "outputs": [
    {
     "data": {
      "text/plain": [
       "0.5062075424895804"
      ]
     },
     "execution_count": 77,
     "metadata": {},
     "output_type": "execute_result"
    }
   ],
   "source": [
    "np.nanmean(A)"
   ]
  },
  {
   "cell_type": "markdown",
   "id": "b41408eb",
   "metadata": {},
   "source": [
    "## Dealing with nan"
   ]
  },
  {
   "cell_type": "code",
   "execution_count": 83,
   "id": "83838b24",
   "metadata": {},
   "outputs": [
    {
     "name": "stdout",
     "output_type": "stream",
     "text": [
      "Number of missing values: 2\n",
      "Percentage of missing values: 8.0%\n"
     ]
    }
   ],
   "source": [
    "# Count the number of missing values\n",
    "n_nan = np.isnan(A).sum()\n",
    "\n",
    "# Percentage of missing values\n",
    "pct_nan = np.isnan(A).mean() * 100\n",
    "\n",
    "print(f'Number of missing values: {n_nan}')\n",
    "print(f'Percentage of missing values: {pct_nan}%')"
   ]
  },
  {
   "cell_type": "code",
   "execution_count": 84,
   "id": "0c1a846b",
   "metadata": {},
   "outputs": [
    {
     "name": "stdout",
     "output_type": "stream",
     "text": [
      "[[ 1.76405235  0.40015721  0.          2.2408932   1.86755799]\n",
      " [-0.97727788  0.95008842 -0.15135721 -0.10321885  0.4105985 ]\n",
      " [ 0.14404357  1.45427351  0.76103773  0.12167502  0.44386323]\n",
      " [ 0.33367433  1.49407907 -0.20515826  0.3130677  -0.85409574]\n",
      " [-2.55298982  0.6536186   0.8644362   0.          2.26975462]]\n",
      "a 2-D array of shape (5, 5)\n"
     ]
    }
   ],
   "source": [
    "# Make a copy of matrix A\n",
    "A_copy = A.copy()\n",
    "\n",
    "# Replace the missing values by 0\n",
    "A_copy[np.isnan(A_copy)] = 0\n",
    "\n",
    "print(A_copy)\n",
    "show_info(A_copy)"
   ]
  },
  {
   "cell_type": "markdown",
   "id": "732514e6",
   "metadata": {},
   "source": [
    "## Linear Algebra"
   ]
  },
  {
   "cell_type": "code",
   "execution_count": 85,
   "id": "56192532",
   "metadata": {},
   "outputs": [
    {
     "name": "stdout",
     "output_type": "stream",
     "text": [
      "Matrix A\n",
      "[[1. 1. 1.]\n",
      " [1. 1. 1.]]\n",
      "\n",
      "Matrix B\n",
      "[[1. 1.]\n",
      " [1. 1.]\n",
      " [1. 1.]]\n"
     ]
    }
   ],
   "source": [
    "A = np.ones((2, 3))\n",
    "B = np.ones((3, 2))\n",
    "\n",
    "print('Matrix A')\n",
    "print(A)\n",
    "print()\n",
    "print('Matrix B')\n",
    "print(B)"
   ]
  },
  {
   "cell_type": "code",
   "execution_count": 86,
   "id": "d08d638c",
   "metadata": {},
   "outputs": [
    {
     "name": "stdout",
     "output_type": "stream",
     "text": [
      "A x B\n",
      "[[3. 3.]\n",
      " [3. 3.]]\n",
      "\n",
      "B x A\n",
      "[[2. 2. 2.]\n",
      " [2. 2. 2.]\n",
      " [2. 2. 2.]]\n",
      "\n"
     ]
    }
   ],
   "source": [
    "# dot product\n",
    "print('A x B')\n",
    "print(A.dot(B))\n",
    "print()\n",
    "\n",
    "print('B x A')\n",
    "print(B.dot(A))\n",
    "print()"
   ]
  },
  {
   "cell_type": "code",
   "execution_count": 90,
   "id": "54b1eb2e",
   "metadata": {},
   "outputs": [
    {
     "name": "stdout",
     "output_type": "stream",
     "text": [
      "[[0 4 5]\n",
      " [5 6 8]\n",
      " [4 1 4]]\n"
     ]
    }
   ],
   "source": [
    "A = np.random.randint(0, 10, (3, 3))\n",
    "print(A)"
   ]
  },
  {
   "cell_type": "code",
   "execution_count": 95,
   "id": "63f70127",
   "metadata": {},
   "outputs": [
    {
     "name": "stdout",
     "output_type": "stream",
     "text": [
      "Determinant of A: -46.99999999999999\n",
      "\n",
      "Inverse of A:\n",
      "[[-0.34042553  0.23404255 -0.04255319]\n",
      " [-0.25531915  0.42553191 -0.53191489]\n",
      " [ 0.40425532 -0.34042553  0.42553191]]\n",
      "\n",
      "Pseudo-Inverse of A:\n",
      "[[-0.34042553  0.23404255 -0.04255319]\n",
      " [-0.25531915  0.42553191 -0.53191489]\n",
      " [ 0.40425532 -0.34042553  0.42553191]]\n",
      "\n"
     ]
    }
   ],
   "source": [
    "print(f'Determinant of A: {np.linalg.det(A)}\\n')\n",
    "\n",
    "print('Inverse of A:')\n",
    "print(np.linalg.inv(A))\n",
    "print()\n",
    "\n",
    "print('Pseudo-Inverse of A:')\n",
    "print(np.linalg.pinv(A))\n",
    "print()\n",
    "\n"
   ]
  },
  {
   "cell_type": "code",
   "execution_count": 99,
   "id": "e5d1c5b9",
   "metadata": {},
   "outputs": [
    {
     "name": "stdout",
     "output_type": "stream",
     "text": [
      "Eigen values of A: [11.70711161 -3.03144729  1.32433567]\n",
      "\n",
      "Eigen vectors of A:\n",
      "[[-0.42874248 -0.87114314 -0.19148208]\n",
      " [-0.84038624  0.04955314 -0.79053568]\n",
      " [-0.33155821  0.48852239  0.58171123]]\n"
     ]
    }
   ],
   "source": [
    "eigen_values, eigen_vectors = np.linalg.eig(A)\n",
    "print(f'Eigen values of A: {eigen_values}\\n')\n",
    "print(f'Eigen vectors of A:\\n{eigen_vectors}')"
   ]
  },
  {
   "cell_type": "markdown",
   "id": "13de9d8c",
   "metadata": {},
   "source": [
    "## Broadcasting"
   ]
  },
  {
   "cell_type": "code",
   "execution_count": 130,
   "id": "b1611a1f",
   "metadata": {},
   "outputs": [],
   "source": [
    "np.random.seed(0)\n",
    "\n",
    "A = np.random.randint(0, 10, (2, 3))\n",
    "B = np.ones((2, 3))\n",
    "C = np.array([[1, 2, 3]])\n",
    "D = np.array([[1],\n",
    "              [2]])"
   ]
  },
  {
   "cell_type": "code",
   "execution_count": 131,
   "id": "0f63ac79",
   "metadata": {},
   "outputs": [
    {
     "name": "stdout",
     "output_type": "stream",
     "text": [
      "Matrix A:\n",
      "[[5 0 3]\n",
      " [3 7 9]]\n",
      "a 2-D array of shape (2, 3)\n",
      "Matrix B:\n",
      "[[1. 1. 1.]\n",
      " [1. 1. 1.]]\n",
      "a 2-D array of shape (2, 3)\n",
      "\n",
      "A + B =\n",
      "[[ 6.  1.  4.]\n",
      " [ 4.  8. 10.]]\n",
      "A + 1 =\n",
      "[[ 6.  1.  4.]\n",
      " [ 4.  8. 10.]]\n"
     ]
    }
   ],
   "source": [
    "print('Matrix A:')\n",
    "print(A)\n",
    "show_info(A)\n",
    "print('Matrix B:')\n",
    "print(B)\n",
    "show_info(B)\n",
    "print()\n",
    "\n",
    "print('A + B =')\n",
    "print(A + B)\n",
    "print('A + 1 =')\n",
    "print(A + 1.)"
   ]
  },
  {
   "cell_type": "code",
   "execution_count": 124,
   "id": "11e01a75",
   "metadata": {},
   "outputs": [
    {
     "name": "stdout",
     "output_type": "stream",
     "text": [
      "Matrix A:\n",
      "[[4 3 0]\n",
      " [3 5 0]]\n",
      "a 2-D array of shape (2, 3)\n",
      "Matrix C:\n",
      "[[1 2 3]]\n",
      "a 2-D array of shape (1, 3)\n",
      "\n",
      "A + C =\n",
      "[[5 5 3]\n",
      " [4 7 3]]\n"
     ]
    }
   ],
   "source": [
    "print('Matrix A:')\n",
    "print(A)\n",
    "show_info(A)\n",
    "print('Matrix C:')\n",
    "print(C)\n",
    "show_info(C)\n",
    "print()\n",
    "\n",
    "print('A + C =')\n",
    "print(A + C)"
   ]
  },
  {
   "cell_type": "code",
   "execution_count": 125,
   "id": "a522b3fa",
   "metadata": {},
   "outputs": [
    {
     "name": "stdout",
     "output_type": "stream",
     "text": [
      "Matrix A:\n",
      "[[4 3 0]\n",
      " [3 5 0]]\n",
      "a 2-D array of shape (2, 3)\n",
      "Matrix D:\n",
      "[[1]\n",
      " [2]]\n",
      "a 2-D array of shape (2, 1)\n",
      "\n",
      "A + D =\n",
      "[[5 4 1]\n",
      " [5 7 2]]\n"
     ]
    }
   ],
   "source": [
    "print('Matrix A:')\n",
    "print(A)\n",
    "show_info(A)\n",
    "print('Matrix D:')\n",
    "print(D)\n",
    "show_info(D)\n",
    "print()\n",
    "\n",
    "print('A + D =')\n",
    "print(A + D)"
   ]
  },
  {
   "cell_type": "code",
   "execution_count": 138,
   "id": "81194b23",
   "metadata": {},
   "outputs": [
    {
     "name": "stdout",
     "output_type": "stream",
     "text": [
      "Matrix A:\n",
      "[[5]\n",
      " [0]\n",
      " [3]\n",
      " [3]]\n",
      "a 2-D array of shape (4, 1)\n",
      "\n",
      "Matrix B:\n",
      "[[1. 1. 1.]]\n",
      "a 2-D array of shape (1, 3)\n",
      "\n",
      "A + B =\n",
      "[[6. 6. 6.]\n",
      " [1. 1. 1.]\n",
      " [4. 4. 4.]\n",
      " [4. 4. 4.]]\n",
      "a 2-D array of shape (4, 3)\n"
     ]
    }
   ],
   "source": [
    "np.random.seed(0)\n",
    "A = np.random.randint(0, 10, (4, 1))\n",
    "B = np.ones((1, 3))\n",
    "C = A + B\n",
    "\n",
    "print('Matrix A:')\n",
    "print(A)\n",
    "show_info(A)\n",
    "print()\n",
    "print('Matrix B:')\n",
    "print(B)\n",
    "show_info(B)\n",
    "print()\n",
    "print('A + B =')\n",
    "print(C)\n",
    "show_info(C)"
   ]
  }
 ],
 "metadata": {
  "kernelspec": {
   "display_name": "Python 3 (ipykernel)",
   "language": "python",
   "name": "python3"
  },
  "language_info": {
   "codemirror_mode": {
    "name": "ipython",
    "version": 3
   },
   "file_extension": ".py",
   "mimetype": "text/x-python",
   "name": "python",
   "nbconvert_exporter": "python",
   "pygments_lexer": "ipython3",
   "version": "3.9.12"
  }
 },
 "nbformat": 4,
 "nbformat_minor": 5
}
