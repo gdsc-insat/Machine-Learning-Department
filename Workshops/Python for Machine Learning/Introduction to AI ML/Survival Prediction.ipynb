{
 "cells": [
  {
   "cell_type": "markdown",
   "id": "33a38814",
   "metadata": {},
   "source": [
    "# Introduction to Machine Learning GDSC INSAT: Survival Prediction\n",
    "Notebook by Head of ML Department: Mouafak Dakhlaoui"
   ]
  },
  {
   "cell_type": "code",
   "execution_count": 1,
   "id": "d8192949",
   "metadata": {},
   "outputs": [],
   "source": [
    "import pickle\n",
    "import pandas as pd"
   ]
  },
  {
   "cell_type": "code",
   "execution_count": 2,
   "id": "ec28ce96",
   "metadata": {},
   "outputs": [],
   "source": [
    "file_path = 'saved_model\\\\my_model.pkl'        # model trained in \"Titanic - Machine Learning from Disaster\n",
    "                                               # Example (Preview)\" notebook\n",
    "\n",
    "with open(file_path, 'rb') as f:\n",
    "    clf_model = pickle.load(f)                 # load trained model"
   ]
  },
  {
   "cell_type": "code",
   "execution_count": 3,
   "id": "2d4179a4",
   "metadata": {},
   "outputs": [],
   "source": [
    "def predict_survival(pclass:int, sex:str, age:int):\n",
    "    '''\n",
    "    Predicts if a passenger survives the titanic sinking.\n",
    "    Arguments:\n",
    "        pclass: an integer representing the passenger's class, can be either 1, 2 or 3.\n",
    "        sex: a string, male or female.\n",
    "        age: an integer, the age of the passenger.\n",
    "    Returns:\n",
    "        The probability of survival (a float between 0 and 1).\n",
    "    '''\n",
    "    \n",
    "    pclass = (pclass - 1) / 2\n",
    "    if sex == 'male':\n",
    "        sex = 0\n",
    "    elif sex == 'female':\n",
    "        sex = 1\n",
    "    age /= 80\n",
    "    \n",
    "    features_dict = {'Pclass': [pclass], 'Sex': [sex], 'Age': [age]}\n",
    "    \n",
    "    X = pd.DataFrame.from_dict(features_dict)\n",
    "    probability = clf_model.predict_proba(X)\n",
    "    return probability[0, 1]"
   ]
  },
  {
   "cell_type": "code",
   "execution_count": 7,
   "id": "90a3e40a",
   "metadata": {},
   "outputs": [
    {
     "name": "stdout",
     "output_type": "stream",
     "text": [
      "You have 16 % chance of survival.\n"
     ]
    }
   ],
   "source": [
    "pclass = 1      # passenger class: 1, 2 or 3\n",
    "sex = 'male'    # gender: 'male' or 'female'\n",
    "age = 21        # age\n",
    "\n",
    "\n",
    "probability = predict_survival(pclass, sex, age)\n",
    "\n",
    "print(f'You have {int(probability * 100)} % chance of survival.')"
   ]
  }
 ],
 "metadata": {
  "kernelspec": {
   "display_name": "sklearn-env",
   "language": "python",
   "name": "sklearn-env"
  },
  "language_info": {
   "codemirror_mode": {
    "name": "ipython",
    "version": 3
   },
   "file_extension": ".py",
   "mimetype": "text/x-python",
   "name": "python",
   "nbconvert_exporter": "python",
   "pygments_lexer": "ipython3",
   "version": "3.10.6"
  }
 },
 "nbformat": 4,
 "nbformat_minor": 5
}
