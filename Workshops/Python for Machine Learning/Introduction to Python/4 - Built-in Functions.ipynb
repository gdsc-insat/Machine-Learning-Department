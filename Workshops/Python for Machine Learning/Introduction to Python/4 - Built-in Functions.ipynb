{
 "cells": [
  {
   "cell_type": "markdown",
   "id": "3f12f56b",
   "metadata": {},
   "source": [
    "# Build-in Functions\n",
    "The Python interpreter has a number of functions and types built into it that are always available. In this notebook we try to present the most important functions"
   ]
  },
  {
   "cell_type": "markdown",
   "id": "030aa3b4",
   "metadata": {},
   "source": [
    "## Basic functions"
   ]
  },
  {
   "cell_type": "code",
   "execution_count": 1,
   "id": "7c25d906",
   "metadata": {},
   "outputs": [
    {
     "name": "stdout",
     "output_type": "stream",
     "text": [
      "The absolute value of -3.2 is 3.2\n",
      "The round of -3.2 to the nearest ineger is -3\n"
     ]
    }
   ],
   "source": [
    "n = -3.2\n",
    "\n",
    "print(f\"The absolute value of {n} is {abs(n)}\") \n",
    "print(f\"The round of {n} to the nearest ineger is {round(n)}\")"
   ]
  },
  {
   "cell_type": "code",
   "execution_count": 2,
   "id": "1d40a202",
   "metadata": {},
   "outputs": [
    {
     "name": "stdout",
     "output_type": "stream",
     "text": [
      "my_list = [2, 1, 1, 2, 3, 5, 1, 2, 7, 8]\n",
      "\n",
      "The maximum of my_list is 8\n",
      "The minimum of my_list is 1\n",
      "\n",
      "The length of my_list is 10\n",
      "\n",
      "The sum of my_list elemnts is 32\n"
     ]
    }
   ],
   "source": [
    "my_list = [2, 1, 1, 2, 3, 5, 1, 2, 7, 8]\n",
    "\n",
    "print(f\"my_list = {my_list}\")\n",
    "print()\n",
    "print(f\"The maximum of my_list is {max(my_list)}\")\n",
    "print(f\"The minimum of my_list is {min(my_list)}\")\n",
    "print()\n",
    "\n",
    "print(f\"The length of my_list is {len(my_list)}\")\n",
    "print()\n",
    "print(f\"The sum of my_list elemnts is {sum(my_list)}\")"
   ]
  },
  {
   "cell_type": "code",
   "execution_count": 3,
   "id": "15cce376",
   "metadata": {},
   "outputs": [
    {
     "name": "stdout",
     "output_type": "stream",
     "text": [
      "True\n",
      "False\n"
     ]
    }
   ],
   "source": [
    "boolean_list = [False, True, True]\n",
    "\n",
    "print(any(boolean_list))  # returns True if at least one element is True\n",
    "print(all(boolean_list))  # returns True if all elements are True"
   ]
  },
  {
   "cell_type": "markdown",
   "id": "eeda707c",
   "metadata": {},
   "source": [
    "## Type conversions\n",
    "The process of converting a Python data type into another data type is known as type conversion."
   ]
  },
  {
   "cell_type": "code",
   "execution_count": 4,
   "id": "eaacc16d",
   "metadata": {},
   "outputs": [
    {
     "name": "stdout",
     "output_type": "stream",
     "text": [
      "a = 5\n",
      "The type of a is <class 'int'>\n",
      "\n",
      "a = 5\n",
      "The type of a is <class 'str'>\n",
      "\n",
      "a = 5.0\n",
      "The type of a is <class 'float'>\n",
      "\n"
     ]
    }
   ],
   "source": [
    "# int, str and float functions\n",
    "\n",
    "a = int(5.1)\n",
    "print(f\"a = {a}\")\n",
    "print(f\"The type of a is {type(a)}\")\n",
    "print()\n",
    "\n",
    "\n",
    "a = str(a)\n",
    "print(f\"a = {a}\")\n",
    "print(f\"The type of a is {type(a)}\")\n",
    "print()\n",
    "\n",
    "a = float(a)\n",
    "print(f\"a = {a}\")\n",
    "print(f\"The type of a is {type(a)}\")\n",
    "print()"
   ]
  },
  {
   "cell_type": "code",
   "execution_count": 5,
   "id": "00407655",
   "metadata": {},
   "outputs": [
    {
     "name": "stdout",
     "output_type": "stream",
     "text": [
      "my_tuple = (1, 2, 3, 4)\n",
      "The type of my_tuple is <class 'tuple'>\n",
      "\n",
      "my_tuple = [1, 2, 3, 4]\n",
      "The type of my_tuple is <class 'list'>\n",
      "\n"
     ]
    }
   ],
   "source": [
    "# tuple and list functions\n",
    "\n",
    "my_tuple = tuple([1, 2, 3, 4])\n",
    "\n",
    "print(f\"my_tuple = {my_tuple}\")\n",
    "print(f\"The type of my_tuple is {type(my_tuple)}\")\n",
    "print()\n",
    "\n",
    "my_tuple = list(my_tuple)\n",
    "\n",
    "print(f\"my_tuple = {my_tuple}\")\n",
    "print(f\"The type of my_tuple is {type(my_tuple)}\")\n",
    "print()"
   ]
  },
  {
   "cell_type": "markdown",
   "id": "cd14084e",
   "metadata": {},
   "source": [
    "## input function\n",
    "The input() function allows user input."
   ]
  },
  {
   "cell_type": "code",
   "execution_count": 6,
   "id": "5573a34e",
   "metadata": {},
   "outputs": [
    {
     "name": "stdout",
     "output_type": "stream",
     "text": [
      "What is your name?\n",
      "Mouafak Dakhlaoui\n",
      "Hello, Mouafak Dakhlaoui\n"
     ]
    }
   ],
   "source": [
    "name = input(\"What is your name?\\n\")\n",
    "\n",
    "print(f\"Hello, {name}\")"
   ]
  },
  {
   "cell_type": "markdown",
   "id": "c691f20f",
   "metadata": {},
   "source": [
    "##  open function\n",
    "The open() function opens a file, and returns it as a file object."
   ]
  },
  {
   "cell_type": "code",
   "execution_count": 7,
   "id": "03d7d35c",
   "metadata": {},
   "outputs": [
    {
     "name": "stdout",
     "output_type": "stream",
     "text": [
      "What is your name? Mouafak Dakhlaoui\n",
      "How old are you? 21\n"
     ]
    }
   ],
   "source": [
    "# We will write a program that takes our info from input() then writes it in a text file\n",
    "def get_info():\n",
    "    name = input(\"What is your name? \")\n",
    "    age = int(input(\"How old are you? \"))\n",
    "    return name, age\n",
    "\n",
    "def write_to_file(file_path, msg):\n",
    "    with open(file_path, \"w\") as f:\n",
    "        f.write(msg)\n",
    "        \n",
    "name, age = get_info()\n",
    "msg = f\"{name}: {age} years old\"\n",
    "file_path = \"info.txt\"\n",
    "write_to_file(file_path, msg)"
   ]
  },
  {
   "cell_type": "code",
   "execution_count": 8,
   "id": "94ae886b",
   "metadata": {},
   "outputs": [
    {
     "name": "stdout",
     "output_type": "stream",
     "text": [
      "Mouafak Dakhlaoui: 21 years old\n"
     ]
    }
   ],
   "source": [
    "# We can now check if the program worked as expected by reading the file\n",
    "with open(file_path, \"r\") as f:\n",
    "    file_content = f.read()\n",
    "    \n",
    "print(file_content)"
   ]
  },
  {
   "cell_type": "markdown",
   "id": "a1ac0e40",
   "metadata": {},
   "source": [
    "Check https://www.geeksforgeeks.org/file-handling-python/ to know more about file handling."
   ]
  }
 ],
 "metadata": {
  "kernelspec": {
   "display_name": "Python 3 (ipykernel)",
   "language": "python",
   "name": "python3"
  },
  "language_info": {
   "codemirror_mode": {
    "name": "ipython",
    "version": 3
   },
   "file_extension": ".py",
   "mimetype": "text/x-python",
   "name": "python",
   "nbconvert_exporter": "python",
   "pygments_lexer": "ipython3",
   "version": "3.9.12"
  }
 },
 "nbformat": 4,
 "nbformat_minor": 5
}
